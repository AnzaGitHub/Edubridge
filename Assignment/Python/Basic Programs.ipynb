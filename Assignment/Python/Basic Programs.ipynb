{
 "cells": [
  {
   "cell_type": "markdown",
   "id": "053e4e5c",
   "metadata": {},
   "source": [
    "# Arithmetic Operators\n",
    "\n"
   ]
  },
  {
   "cell_type": "code",
   "execution_count": 25,
   "id": "d7268173",
   "metadata": {},
   "outputs": [
    {
     "name": "stdout",
     "output_type": "stream",
     "text": [
      "25\n"
     ]
    }
   ],
   "source": [
    "# Addition\n",
    "a=12\n",
    "b=13\n",
    "c=a+b\n",
    "print(c)"
   ]
  },
  {
   "cell_type": "code",
   "execution_count": 2,
   "id": "45901646",
   "metadata": {},
   "outputs": [
    {
     "name": "stdout",
     "output_type": "stream",
     "text": [
      "13\n"
     ]
    }
   ],
   "source": [
    "# Subtraction\n",
    "a=25\n",
    "b=12\n",
    "c=a-b\n",
    "print(c)\n"
   ]
  },
  {
   "cell_type": "code",
   "execution_count": 3,
   "id": "d5b34c0e",
   "metadata": {},
   "outputs": [
    {
     "name": "stdout",
     "output_type": "stream",
     "text": [
      "15\n"
     ]
    }
   ],
   "source": [
    "# Multiplication\n",
    "x=5\n",
    "y=3\n",
    "z=x*y\n",
    "print(z)"
   ]
  },
  {
   "cell_type": "code",
   "execution_count": 4,
   "id": "725ab9dc",
   "metadata": {},
   "outputs": [
    {
     "name": "stdout",
     "output_type": "stream",
     "text": [
      "4.0\n"
     ]
    }
   ],
   "source": [
    "# Division\n",
    "x=20\n",
    "y=5\n",
    "z=x/y\n",
    "print(z)"
   ]
  },
  {
   "cell_type": "code",
   "execution_count": 5,
   "id": "4e9f59b3",
   "metadata": {},
   "outputs": [
    {
     "name": "stdout",
     "output_type": "stream",
     "text": [
      "1\n"
     ]
    }
   ],
   "source": [
    "# Modulus\n",
    "a=10\n",
    "b=3\n",
    "c=a%b\n",
    "print(c)"
   ]
  },
  {
   "cell_type": "code",
   "execution_count": 6,
   "id": "ee0cae6c",
   "metadata": {},
   "outputs": [
    {
     "name": "stdout",
     "output_type": "stream",
     "text": [
      "3\n"
     ]
    }
   ],
   "source": [
    "# Floor Division\n",
    "a=10\n",
    "b=3\n",
    "c=a//b\n",
    "print(c)"
   ]
  },
  {
   "cell_type": "markdown",
   "id": "4a5d0a43",
   "metadata": {},
   "source": [
    "# Variables -Type(), id() etc\n"
   ]
  },
  {
   "cell_type": "code",
   "execution_count": 8,
   "id": "3447d802",
   "metadata": {},
   "outputs": [
    {
     "name": "stdout",
     "output_type": "stream",
     "text": [
      "<class 'int'>\n",
      "140724514270736\n"
     ]
    }
   ],
   "source": [
    "x=56\n",
    "print(type(x))\n",
    "print(id(x))"
   ]
  },
  {
   "cell_type": "code",
   "execution_count": 9,
   "id": "dcd3be58",
   "metadata": {},
   "outputs": [
    {
     "name": "stdout",
     "output_type": "stream",
     "text": [
      "<class 'str'>\n",
      "2541073312624\n"
     ]
    }
   ],
   "source": [
    "x=\"Anza\"\n",
    "print(type(x))\n",
    "print(id(x))"
   ]
  },
  {
   "cell_type": "code",
   "execution_count": 10,
   "id": "5ac8296a",
   "metadata": {},
   "outputs": [
    {
     "name": "stdout",
     "output_type": "stream",
     "text": [
      "<class 'float'>\n",
      "2541073376400\n"
     ]
    }
   ],
   "source": [
    "x=56.8\n",
    "print(type(x))\n",
    "print(id(x))"
   ]
  },
  {
   "cell_type": "code",
   "execution_count": 11,
   "id": "d162ac08",
   "metadata": {},
   "outputs": [
    {
     "data": {
      "text/plain": [
       "'0x24fa3c6a490'"
      ]
     },
     "execution_count": 11,
     "metadata": {},
     "output_type": "execute_result"
    }
   ],
   "source": [
    "hex(id(x))"
   ]
  },
  {
   "cell_type": "code",
   "execution_count": 11,
   "id": "429af7b7",
   "metadata": {},
   "outputs": [
    {
     "name": "stdout",
     "output_type": "stream",
     "text": [
      "<class 'int'>\n",
      "140724867771888\n"
     ]
    }
   ],
   "source": [
    "x=55\n",
    "print(type(x))\n",
    "print(id(x))"
   ]
  },
  {
   "cell_type": "code",
   "execution_count": 12,
   "id": "8cb90121",
   "metadata": {},
   "outputs": [
    {
     "name": "stdout",
     "output_type": "stream",
     "text": [
      "<class 'str'>\n",
      "2184420594800\n"
     ]
    }
   ],
   "source": [
    "x=\"A\"\n",
    "print(type(x))\n",
    "print(id(x))"
   ]
  },
  {
   "cell_type": "code",
   "execution_count": 13,
   "id": "ee3dcce5",
   "metadata": {},
   "outputs": [
    {
     "name": "stdout",
     "output_type": "stream",
     "text": [
      "<class 'int'>\n",
      "140724867771888\n"
     ]
    }
   ],
   "source": [
    "x=55\n",
    "print(type(x))\n",
    "print(id(x))"
   ]
  },
  {
   "cell_type": "code",
   "execution_count": 14,
   "id": "a9e33055",
   "metadata": {},
   "outputs": [
    {
     "name": "stdout",
     "output_type": "stream",
     "text": [
      "<class 'float'>\n",
      "2184493045360\n"
     ]
    }
   ],
   "source": [
    "x=55.55\n",
    "print(type(x))\n",
    "print(id(x))"
   ]
  },
  {
   "cell_type": "code",
   "execution_count": 15,
   "id": "2eacaa0a",
   "metadata": {},
   "outputs": [
    {
     "data": {
      "text/plain": [
       "'0x1fc9dee9670'"
      ]
     },
     "execution_count": 15,
     "metadata": {},
     "output_type": "execute_result"
    }
   ],
   "source": [
    "hex(id(x))"
   ]
  },
  {
   "cell_type": "markdown",
   "id": "d0a240cf",
   "metadata": {},
   "source": [
    "#  Keyword"
   ]
  },
  {
   "cell_type": "code",
   "execution_count": 25,
   "id": "837447fc",
   "metadata": {},
   "outputs": [
    {
     "name": "stdout",
     "output_type": "stream",
     "text": [
      "['False', 'None', 'True', 'and', 'as', 'assert', 'async', 'await', 'break', 'class', 'continue', 'def', 'del', 'elif', 'else', 'except', 'finally', 'for', 'from', 'global', 'if', 'import', 'in', 'is', 'lambda', 'nonlocal', 'not', 'or', 'pass', 'raise', 'return', 'try', 'while', 'with', 'yield']\n"
     ]
    }
   ],
   "source": [
    "import keyword\n",
    "print(keyword.kwlist)"
   ]
  },
  {
   "cell_type": "code",
   "execution_count": 26,
   "id": "0d820707",
   "metadata": {},
   "outputs": [
    {
     "data": {
      "text/plain": [
       "35"
      ]
     },
     "execution_count": 26,
     "metadata": {},
     "output_type": "execute_result"
    }
   ],
   "source": [
    "len(keyword.kwlist)"
   ]
  },
  {
   "cell_type": "markdown",
   "id": "3486e145",
   "metadata": {},
   "source": [
    "# Print\n"
   ]
  },
  {
   "cell_type": "code",
   "execution_count": 1,
   "id": "e1a39399",
   "metadata": {},
   "outputs": [
    {
     "name": "stdout",
     "output_type": "stream",
     "text": [
      "my name is Anza\n"
     ]
    }
   ],
   "source": [
    "print(\"my name is Anza\")"
   ]
  },
  {
   "cell_type": "code",
   "execution_count": 2,
   "id": "4b7cdde8",
   "metadata": {},
   "outputs": [
    {
     "data": {
      "text/plain": [
       "'My name is Anza'"
      ]
     },
     "execution_count": 2,
     "metadata": {},
     "output_type": "execute_result"
    }
   ],
   "source": [
    "s=\"My name is Anza\"\n",
    "s"
   ]
  },
  {
   "cell_type": "code",
   "execution_count": 3,
   "id": "2e595715",
   "metadata": {},
   "outputs": [
    {
     "name": "stdout",
     "output_type": "stream",
     "text": [
      "My name is Anza\n"
     ]
    }
   ],
   "source": [
    "print(s)"
   ]
  },
  {
   "cell_type": "markdown",
   "id": "e0ed11ad",
   "metadata": {},
   "source": [
    "# Multiple Assignments\n"
   ]
  },
  {
   "cell_type": "code",
   "execution_count": 16,
   "id": "ea35e8c7",
   "metadata": {},
   "outputs": [
    {
     "name": "stdout",
     "output_type": "stream",
     "text": [
      "10 20 30\n"
     ]
    }
   ],
   "source": [
    "a,b,c=10,20,30\n",
    "print(a,b,c)"
   ]
  },
  {
   "cell_type": "code",
   "execution_count": 19,
   "id": "520cc2fe",
   "metadata": {},
   "outputs": [
    {
     "name": "stdout",
     "output_type": "stream",
     "text": [
      "6 6 6 6\n"
     ]
    }
   ],
   "source": [
    "a=b=c=d=6\n",
    "print(a,b,c,d)"
   ]
  },
  {
   "cell_type": "code",
   "execution_count": 20,
   "id": "13914819",
   "metadata": {},
   "outputs": [
    {
     "name": "stdout",
     "output_type": "stream",
     "text": [
      "1\n",
      "4.5\n",
      "hello\n"
     ]
    }
   ],
   "source": [
    "a,b,c=1,4.5,'hello'\n",
    "print(a)\n",
    "print(b)\n",
    "print(c)"
   ]
  },
  {
   "cell_type": "code",
   "execution_count": 21,
   "id": "624890ba",
   "metadata": {},
   "outputs": [
    {
     "name": "stdout",
     "output_type": "stream",
     "text": [
      "enter the number67\n",
      "enter the number78\n",
      "6778\n"
     ]
    }
   ],
   "source": [
    "x=input('enter the number')\n",
    "y=input(\"enter the number\")\n",
    "z=x+y\n",
    "print(z)"
   ]
  },
  {
   "cell_type": "code",
   "execution_count": 21,
   "id": "467a88e7",
   "metadata": {},
   "outputs": [
    {
     "name": "stdout",
     "output_type": "stream",
     "text": [
      "Enter the number1\n",
      "Enter the number2\n",
      "Enter the number3\n",
      "Enter the number4\n",
      "Enter the number5\n",
      "12345\n"
     ]
    }
   ],
   "source": [
    "a=input('Enter the number')\n",
    "b=input('Enter the number')\n",
    "c=input('Enter the number')\n",
    "d=input('Enter the number')\n",
    "e=input('Enter the number')\n",
    "x=a+b+c+d+e\n",
    "print(x)"
   ]
  },
  {
   "cell_type": "code",
   "execution_count": 6,
   "id": "172d6064",
   "metadata": {},
   "outputs": [
    {
     "name": "stdout",
     "output_type": "stream",
     "text": [
      "Enter the first number10\n",
      "Enter the second number20\n",
      "Before Swap 10\n",
      "Before Swap 20\n",
      "After Swap 20\n",
      "After Swap 10\n"
     ]
    }
   ],
   "source": [
    "# Swapping\n",
    "a=int(input(\"Enter the first number\"))\n",
    "b=int(input(\"Enter the second number\"))\n",
    "print(\"Before Swap\",a)\n",
    "print(\"Before Swap\",b)\n",
    "a=a+b\n",
    "b=a-b\n",
    "a=a-b\n",
    "print('After Swap',a)\n",
    "print('After Swap',b)"
   ]
  },
  {
   "cell_type": "code",
   "execution_count": 27,
   "id": "3ea737ac",
   "metadata": {},
   "outputs": [
    {
     "name": "stdout",
     "output_type": "stream",
     "text": [
      "Enter the number2\n",
      "Enter the power3\n",
      "8\n"
     ]
    }
   ],
   "source": [
    "# Power of a Number\n",
    "a=int(input(\"Enter the number\"))\n",
    "b=int(input(\"Enter the power\"))\n",
    "c=a**b\n",
    "print(c)"
   ]
  },
  {
   "cell_type": "code",
   "execution_count": null,
   "id": "5cf6a3ea",
   "metadata": {},
   "outputs": [],
   "source": [
    "# Power of number using while loop\n",
    "a=int(input(\"Enter the base\"))\n",
    "b=int(input(\"Enter the exponent\"))\n",
    "c=1\n",
    "while b!=0:\n",
    "    c=a*c\n",
    "    b=b-1\n",
    "else:  \n",
    " print(c)   "
   ]
  },
  {
   "cell_type": "code",
   "execution_count": 9,
   "id": "7396f91f",
   "metadata": {},
   "outputs": [
    {
     "name": "stdout",
     "output_type": "stream",
     "text": [
      "Enter the number14\n",
      "before 14\n",
      "After reversing 41\n"
     ]
    }
   ],
   "source": [
    "# Reverse of a number\n",
    "a=int(input('Enter the number'))\n",
    "print('before',a)\n",
    "Dig1=a%10\n",
    "Dig2=a//10\n",
    "b=Dig1*10+Dig2\n",
    "print('After reversing',b)"
   ]
  },
  {
   "cell_type": "code",
   "execution_count": 17,
   "id": "49b7323c",
   "metadata": {},
   "outputs": [
    {
     "name": "stdout",
     "output_type": "stream",
     "text": [
      "Enter the radius: 4\n",
      "268.0832\n"
     ]
    }
   ],
   "source": [
    "#Volume of Sphere\n",
    "radius=float(input('Enter the radius: '))\n",
    "vol=(4/3)*3.1416*(radius*radius*radius)\n",
    "print(vol)"
   ]
  },
  {
   "cell_type": "code",
   "execution_count": 18,
   "id": "ba729900",
   "metadata": {},
   "outputs": [
    {
     "name": "stdout",
     "output_type": "stream",
     "text": [
      "Enter the length: 5\n",
      "125\n"
     ]
    }
   ],
   "source": [
    "#Volume of cube\n",
    "a=int(input('Enter the length: '))\n",
    "V=a*a*a\n",
    "print(V)"
   ]
  },
  {
   "cell_type": "code",
   "execution_count": 19,
   "id": "f1ec37f7",
   "metadata": {},
   "outputs": [
    {
     "name": "stdout",
     "output_type": "stream",
     "text": [
      "Enter the radius: 3\n",
      "Enter the height: 7\n",
      "197.82\n"
     ]
    }
   ],
   "source": [
    "#Volume of Cylinder\n",
    "r=float(input(\"Enter the radius: \"))\n",
    "h=float(input(\"Enter the height: \"))\n",
    "V=3.14*r*r*h\n",
    "print(V)"
   ]
  },
  {
   "cell_type": "code",
   "execution_count": 20,
   "id": "47938bc7",
   "metadata": {},
   "outputs": [
    {
     "name": "stdout",
     "output_type": "stream",
     "text": [
      "Enter the radius: 4\n",
      "25.12\n"
     ]
    }
   ],
   "source": [
    "#Circumference of a Circle\n",
    "r=float(input('Enter the radius: '))\n",
    "p=2*3.14*r\n",
    "print(p)"
   ]
  },
  {
   "cell_type": "code",
   "execution_count": 23,
   "id": "b8dcf611",
   "metadata": {},
   "outputs": [
    {
     "name": "stdout",
     "output_type": "stream",
     "text": [
      "Enter the length: 3\n",
      "Enter the width: 5\n",
      "16.0\n"
     ]
    }
   ],
   "source": [
    "#Perimeter of a Rectangle\n",
    "l=float(input('Enter the length: '))\n",
    "w=float(input('Enter the width: '))\n",
    "p=2*(l+w)\n",
    "print(p)"
   ]
  },
  {
   "cell_type": "code",
   "execution_count": 26,
   "id": "cac7a0b0",
   "metadata": {},
   "outputs": [
    {
     "name": "stdout",
     "output_type": "stream",
     "text": [
      "Enter the length: 3\n",
      "Enter the width: 2\n",
      "10.0 m^3\n"
     ]
    }
   ],
   "source": [
    "#Perimeter of a Rectangle with Unit\n",
    "l=float(input('Enter the length: '))\n",
    "w=float(input('Enter the width: '))\n",
    "p=2*(l+w)\n",
    "print(p,\"m^3\")"
   ]
  },
  {
   "cell_type": "markdown",
   "id": "f7b3d51c",
   "metadata": {},
   "source": [
    "# If Else Programs"
   ]
  },
  {
   "cell_type": "code",
   "execution_count": 4,
   "id": "73ecee7a",
   "metadata": {},
   "outputs": [
    {
     "name": "stdout",
     "output_type": "stream",
     "text": [
      "Enter the year2007\n",
      "Not a leap year\n"
     ]
    }
   ],
   "source": [
    "#Leap year\n",
    "year=int(input(\"Enter the year\"))\n",
    "if (year%4)==0:\n",
    "    if (year%100)==0:\n",
    "        if (year%400)==0:\n",
    "            print(\"Leap year\")\n",
    "        else:\n",
    "            print(\"Not a leap year\")\n",
    "    else:\n",
    "        print(\"Leap year\")\n",
    "else:\n",
    "    print(\"Not a leap year\")\n",
    "    "
   ]
  },
  {
   "cell_type": "code",
   "execution_count": 13,
   "id": "b1476c6b",
   "metadata": {},
   "outputs": [
    {
     "name": "stdout",
     "output_type": "stream",
     "text": [
      "Enter the number7\n",
      "Saturday\n"
     ]
    }
   ],
   "source": [
    "# Number to Day\n",
    "x=int(input(\"Enter the number\"))\n",
    "if x==1:\n",
    "    print(\"Sunday\")\n",
    "elif x==2:\n",
    "    print(\"Monday\")\n",
    "elif x==3:\n",
    "    print(\"Tuesday\")\n",
    "elif x==4:\n",
    "    print('Wednesday')\n",
    "elif x==5:\n",
    "    print(\"Thursday\")\n",
    "elif x==6:\n",
    "    print(\"Friday\")\n",
    "elif x==7:\n",
    "    print(\"Saturday\")\n",
    "else:\n",
    "    print(\"Enter numbers from 1 to 7 only \")\n",
    "    "
   ]
  },
  {
   "cell_type": "code",
   "execution_count": 18,
   "id": "eb57a570",
   "metadata": {},
   "outputs": [
    {
     "name": "stdout",
     "output_type": "stream",
     "text": [
      "Enter the mark50\n",
      "F\n"
     ]
    }
   ],
   "source": [
    "# Grade\n",
    "m=int(input(\"Enter the mark\"))\n",
    "if m>=90:\n",
    "    print(\"A\")\n",
    "elif m>=75 and m<90:\n",
    "    print(\"B\")\n",
    "elif m>=65 and m<75:\n",
    "    print(\"C\")\n",
    "elif m>=55 and m<65:\n",
    "    print(\"D\")\n",
    "else:\n",
    "    print(\"F\")"
   ]
  },
  {
   "cell_type": "code",
   "execution_count": 27,
   "id": "89460415",
   "metadata": {},
   "outputs": [
    {
     "name": "stdout",
     "output_type": "stream",
     "text": [
      "Enter the operator/\n",
      "Enter the input 15\n",
      "Enter the input 3\n",
      "5\n"
     ]
    }
   ],
   "source": [
    "#Calculator\n",
    "x=input(\"Enter the operator\")\n",
    "a=int(input(\"Enter the input \"))\n",
    "b=int(input(\"Enter the input \"))\n",
    "if x==\"+\":\n",
    "    print(a+b)\n",
    "elif x==\"-\":\n",
    "    print(a-b)\n",
    "elif x==\"*\":\n",
    "    print(a*b)\n",
    "elif x==\"/\":\n",
    "    print(a//b)\n",
    "else:\n",
    "    print('null')\n",
    "\n"
   ]
  },
  {
   "cell_type": "code",
   "execution_count": 13,
   "id": "84c76562",
   "metadata": {},
   "outputs": [
    {
     "name": "stdout",
     "output_type": "stream",
     "text": [
      "Enter the number: 24\n",
      "Not weird\n"
     ]
    }
   ],
   "source": [
    "# Hacker rank problem Weird for Odd Number\n",
    "n=int(input('Enter the number: '))\n",
    "if n%2!=0:\n",
    "    print(\"Weird\")\n",
    "elif n%2==0 and 6<=n<=20:\n",
    "    print(\"Weird\")\n",
    "else:\n",
    "    print(\"Not weird\")"
   ]
  },
  {
   "cell_type": "code",
   "execution_count": 18,
   "id": "8252ffce",
   "metadata": {},
   "outputs": [
    {
     "name": "stdout",
     "output_type": "stream",
     "text": [
      "Enter the number 24\n",
      "Not weird\n"
     ]
    }
   ],
   "source": [
    "# Hacker Rank Problem (Same as above)\n",
    "n=int(input(\"Enter the number \"))\n",
    "if n%2!=0:\n",
    "    print(\"Weied\")\n",
    "else:\n",
    "    if n>=2 and n<=5:\n",
    "        print(\"Not weird\")\n",
    "    elif n>=6 and n<=20:\n",
    "        print(\"Weird\")\n",
    "    elif n>20:\n",
    "        print(\"Not weird\")"
   ]
  },
  {
   "cell_type": "code",
   "execution_count": 32,
   "id": "ba89685a",
   "metadata": {},
   "outputs": [
    {
     "name": "stdout",
     "output_type": "stream",
     "text": [
      "Enter the number 45\n",
      "Enter the number 22\n",
      "Enter the number 87\n",
      "Greatest number is:  87\n"
     ]
    }
   ],
   "source": [
    "#Greatest Number\n",
    "a=int(input(\"Enter the number \"))\n",
    "b=int(input(\"Enter the number \"))\n",
    "c=int(input(\"Enter the number \"))`\n",
    "if a>b and a>c:\n",
    "    print(\"Greatest number is: \",a)\n",
    "elif b>a and b>c:\n",
    "     print(\"Greatest number is: \",b)\n",
    "else:\n",
    "     print(\"Greatest number is: \",c)"
   ]
  },
  {
   "cell_type": "code",
   "execution_count": 35,
   "id": "e9bb1ef3",
   "metadata": {},
   "outputs": [
    {
     "name": "stdout",
     "output_type": "stream",
     "text": [
      "Enter the amount, 20000\n",
      "Salary with Bonus 20000 2000.0 22000.0\n"
     ]
    }
   ],
   "source": [
    "# Bonus for Salary > 10000\n",
    "Salary=int(input(\"Enter the amount, \"))\n",
    "if Salary>10000:\n",
    "    Bonus=Salary*(10/100)\n",
    "    print(\"Salary with Bonus\", Salary,Bonus,Salary+Bonus)\n",
    "else:\n",
    "    print(\"Not eligible for Bonus\", Salary)"
   ]
  },
  {
   "cell_type": "code",
   "execution_count": 39,
   "id": "6fa87e5e",
   "metadata": {},
   "outputs": [
    {
     "name": "stdout",
     "output_type": "stream",
     "text": [
      "Enter the number between 1 & 12: 3\n",
      "MAR\n"
     ]
    }
   ],
   "source": [
    "# Number to Corresponding Month\n",
    "Month=int(input(\"Enter the number between 1 & 12: \"))\n",
    "if Month==1:\n",
    "    print(\"JAN\")\n",
    "elif Month==2:\n",
    "    print(\"FEB\")\n",
    "elif Month==3:\n",
    "    print(\"MAR\")\n",
    "elif Month==4:\n",
    "    print(\"APR\")\n",
    "elif Month==5:\n",
    "    print(\"MAY\")\n",
    "elif Month==6:\n",
    "    print(\"JUNE\")\n",
    "elif Month==7:\n",
    "    print(\"JULY\")\n",
    "elif Month==8:\n",
    "    print(\"AUG\")\n",
    "elif Month==9:\n",
    "    print(\"SEP\")\n",
    "elif Month==10:\n",
    "    print(\"OCT\")\n",
    "elif Month==11:\n",
    "    print(\"NOV\")\n",
    "elif Month==12:\n",
    "    print(\"DEC\")\n",
    "else:\n",
    "    print(\"Enter number between 1 & 12 only\")"
   ]
  },
  {
   "cell_type": "code",
   "execution_count": 42,
   "id": "7a1376a8",
   "metadata": {},
   "outputs": [
    {
     "name": "stdout",
     "output_type": "stream",
     "text": [
      "Enter your age: 18\n",
      "You are eligible to vote.\n"
     ]
    }
   ],
   "source": [
    "# Eligibility to vote\n",
    "age=int(input(\"Enter your age: \"))\n",
    "if age>=18:\n",
    "    print(\"You are eligible to vote.\")\n",
    "else:\n",
    "    print(\"You are not eligible to vote.\")"
   ]
  },
  {
   "cell_type": "code",
   "execution_count": 43,
   "id": "77a0ea56",
   "metadata": {},
   "outputs": [
    {
     "name": "stdout",
     "output_type": "stream",
     "text": [
      "Enter the number 40\n",
      "Enter the number 10\n",
      "Enter the number 30\n",
      "10 30 40\n"
     ]
    }
   ],
   "source": [
    "# Ascendind Order\n",
    "a=int(input(\"Enter the number \"))\n",
    "b=int(input(\"Enter the number \"))\n",
    "c=int(input(\"Enter the number \"))\n",
    "if a>b:\n",
    "    a,b=b,a\n",
    "if a>c:\n",
    "    a,c=c,a\n",
    "if b>c:\n",
    "    b,c=c,b\n",
    "print(a,b,c)"
   ]
  },
  {
   "cell_type": "code",
   "execution_count": 45,
   "id": "17b5e332",
   "metadata": {},
   "outputs": [
    {
     "name": "stdout",
     "output_type": "stream",
     "text": [
      "Enter the number 2\n",
      "Enter the number 2\n",
      "The numbers are equal\n"
     ]
    }
   ],
   "source": [
    "# Check if 2 numbers are equal\n",
    "a=int(input(\"Enter the number \"))\n",
    "b=int(input(\"Enter the number \"))\n",
    "if a==b:\n",
    "    print(\"The numbers are equal\")\n",
    "else:\n",
    "    print(\"The numbers are not equal\")"
   ]
  },
  {
   "cell_type": "markdown",
   "id": "10a82d54",
   "metadata": {},
   "source": [
    "# Loop\n"
   ]
  },
  {
   "cell_type": "code",
   "execution_count": 1,
   "id": "4d76b82b",
   "metadata": {},
   "outputs": [
    {
     "name": "stdout",
     "output_type": "stream",
     "text": [
      "1\n",
      "2\n",
      "3\n",
      "4\n",
      "5\n",
      "6\n",
      "7\n",
      "8\n",
      "9\n",
      "10\n"
     ]
    }
   ],
   "source": [
    "# Print 10 numbers\n",
    "i=1\n",
    "while i<=10:\n",
    "    print(i)\n",
    "    i=i+1"
   ]
  },
  {
   "cell_type": "code",
   "execution_count": 5,
   "id": "1b2934f6",
   "metadata": {},
   "outputs": [
    {
     "name": "stdout",
     "output_type": "stream",
     "text": [
      "55\n"
     ]
    }
   ],
   "source": [
    "# Sum of 10 numbers\n",
    "i=1\n",
    "sum=0\n",
    "while i<=10:\n",
    "    sum=sum+i\n",
    "    i=i+1\n",
    "print(sum)"
   ]
  },
  {
   "cell_type": "code",
   "execution_count": 8,
   "id": "13c88a64",
   "metadata": {},
   "outputs": [
    {
     "name": "stdout",
     "output_type": "stream",
     "text": [
      "2 * 1 = 2\n",
      "2 * 2 = 4\n",
      "2 * 3 = 6\n",
      "2 * 4 = 8\n",
      "2 * 5 = 10\n",
      "2 * 6 = 12\n",
      "2 * 7 = 14\n",
      "2 * 8 = 16\n",
      "2 * 9 = 18\n",
      "2 * 10 = 20\n"
     ]
    }
   ],
   "source": [
    "# Multiplication Table of 2\n",
    "i=1\n",
    "Prod=2\n",
    "while i<=10:\n",
    "    Prod=i*2\n",
    "    print(\"2\",\"*\",i,\"=\",Prod)\n",
    "    i=i+1\n"
   ]
  },
  {
   "cell_type": "code",
   "execution_count": 14,
   "id": "69611b12",
   "metadata": {},
   "outputs": [
    {
     "name": "stdout",
     "output_type": "stream",
     "text": [
      "Enter the number 6\n",
      "6 * 1 = 6\n",
      "6 * 2 = 12\n",
      "6 * 3 = 18\n",
      "6 * 4 = 24\n",
      "6 * 5 = 30\n",
      "6 * 6 = 36\n",
      "6 * 7 = 42\n",
      "6 * 8 = 48\n",
      "6 * 9 = 54\n",
      "6 * 10 = 60\n"
     ]
    }
   ],
   "source": [
    "# Multiplication Table\n",
    "i=1\n",
    "Prod=int(input(\"Enter the number \"))\n",
    "n=Prod\n",
    "while i<=10:\n",
    "    Prod=i*n\n",
    "    print(n,\"*\",i,\"=\",Prod)\n",
    "    i=i+1\n"
   ]
  },
  {
   "cell_type": "code",
   "execution_count": 4,
   "id": "1c7ad130",
   "metadata": {},
   "outputs": [
    {
     "name": "stdout",
     "output_type": "stream",
     "text": [
      "2\n",
      "4\n",
      "6\n",
      "8\n",
      "10\n"
     ]
    }
   ],
   "source": [
    "# Even numbers from 1 to 10\n",
    "i=1\n",
    "while i<=10:\n",
    "    if i%2==0:\n",
    "        print(i)\n",
    "    i=i+1"
   ]
  },
  {
   "cell_type": "code",
   "execution_count": 15,
   "id": "ed1a1470",
   "metadata": {},
   "outputs": [
    {
     "name": "stdout",
     "output_type": "stream",
     "text": [
      "Enter the number 6\n",
      "720\n"
     ]
    }
   ],
   "source": [
    "# Factorial of a Number\n",
    "i=int(input(\"Enter the number \"))\n",
    "Factorial=i\n",
    "i=i-1\n",
    "while i!=0:\n",
    "    Factorial=Factorial*i\n",
    "    i=i-1\n",
    "print(Factorial)\n"
   ]
  },
  {
   "cell_type": "code",
   "execution_count": 2,
   "id": "7f6f734f",
   "metadata": {},
   "outputs": [
    {
     "name": "stdout",
     "output_type": "stream",
     "text": [
      "Enter the number 5\n",
      "12345"
     ]
    }
   ],
   "source": [
    "# If n=5, print 12345\n",
    "number=int(input(\"Enter the number \"))\n",
    "i=1\n",
    "while i<=number:\n",
    "    print(i,end=\"\")\n",
    "    i=i+1\n"
   ]
  },
  {
   "cell_type": "markdown",
   "id": "d5465d8e",
   "metadata": {},
   "source": [
    "# For Loop\n"
   ]
  },
  {
   "cell_type": "code",
   "execution_count": 1,
   "id": "b862ec09",
   "metadata": {},
   "outputs": [
    {
     "name": "stdout",
     "output_type": "stream",
     "text": [
      "0\n",
      "1\n",
      "2\n",
      "3\n",
      "4\n",
      "5\n",
      "6\n",
      "7\n",
      "8\n",
      "9\n"
     ]
    }
   ],
   "source": [
    "# Print 0 to 9 using For Loop\n",
    "for i in range(10):\n",
    "    print(i)"
   ]
  },
  {
   "cell_type": "code",
   "execution_count": 2,
   "id": "df80796a",
   "metadata": {},
   "outputs": [
    {
     "name": "stdout",
     "output_type": "stream",
     "text": [
      "Hello\n",
      "Hello\n",
      "Hello\n",
      "Hello\n",
      "Hello\n",
      "Hello\n",
      "Hello\n",
      "Hello\n",
      "Hello\n",
      "Hello\n"
     ]
    }
   ],
   "source": [
    "# Print Hello 10 times\n",
    "for i in range(10):\n",
    "    print(\"Hello\")"
   ]
  },
  {
   "cell_type": "code",
   "execution_count": 6,
   "id": "93c2489c",
   "metadata": {},
   "outputs": [
    {
     "name": "stdout",
     "output_type": "stream",
     "text": [
      "55\n"
     ]
    }
   ],
   "source": [
    "# Sum of 1 to 10\n",
    "sum=0\n",
    "for i in range(11):\n",
    "    sum=sum+i\n",
    "print(sum)"
   ]
  },
  {
   "cell_type": "code",
   "execution_count": 3,
   "id": "77dce2e3",
   "metadata": {},
   "outputs": [
    {
     "name": "stdout",
     "output_type": "stream",
     "text": [
      "Enter the number to be reversed 345\n",
      "543\n"
     ]
    }
   ],
   "source": [
    "# Reverse of a 3 digit number\n",
    "num=int(input(\"Enter the number to be reversed \"))\n",
    "rev=0\n",
    "while num>0:\n",
    "    rem=num%10\n",
    "    rev=(rev*10)+rem\n",
    "    num=num//10\n",
    "print(rev)"
   ]
  },
  {
   "cell_type": "code",
   "execution_count": 8,
   "id": "613338f9",
   "metadata": {},
   "outputs": [
    {
     "name": "stdout",
     "output_type": "stream",
     "text": [
      "Enter the number to be reversed:1234\n",
      "Reversed number is: 4321\n",
      "1234 + 4321 = 5555\n"
     ]
    }
   ],
   "source": [
    "# Sum of a Number and its Reverse\n",
    "num=int(input(\"Enter the number to be reversed:\"))\n",
    "rev=0\n",
    "temp=num\n",
    "while num>0:\n",
    "    rem=num%10\n",
    "    rev=(rev*10)+rem\n",
    "    num=num//10\n",
    "print(\"Reversed number is:\",rev)\n",
    "print(temp,\"+\",rev,\"=\",temp+rev)"
   ]
  },
  {
   "cell_type": "code",
   "execution_count": 32,
   "id": "57752d14",
   "metadata": {},
   "outputs": [
    {
     "name": "stdout",
     "output_type": "stream",
     "text": [
      "Enter the number 135\n",
      "Number is not Armstrong\n"
     ]
    }
   ],
   "source": [
    "# Armstrong Number\n",
    "Number=int(input(\"Enter the number \"))\n",
    "string=str(Number)\n",
    "i=len(string)\n",
    "Armstrong=0\n",
    "Temp=Number\n",
    "while Temp>0:\n",
    "    Digit=Temp%10\n",
    "    Armstrong=(Digit**i)+Armstrong\n",
    "    Temp=Temp//10\n",
    "if Number==Armstrong:\n",
    "    print(\"Number is Armstong\")\n",
    "else:\n",
    "    print(\"Number is not Armstrong\")\n"
   ]
  },
  {
   "cell_type": "code",
   "execution_count": 12,
   "id": "322af597",
   "metadata": {},
   "outputs": [
    {
     "name": "stdout",
     "output_type": "stream",
     "text": [
      "Enter the number: 5678\n",
      "The reversed number is: 8765\n",
      "It is not a palindrome\n"
     ]
    }
   ],
   "source": [
    "# Palindrome\n",
    "num=int(input(\"Enter the number: \"))\n",
    "rev=0\n",
    "temp=num\n",
    "while num>0:\n",
    "    rem=num%10\n",
    "    rev=rev*10+rem\n",
    "    num=num//10\n",
    "print(\"The reversed number is:\",rev)\n",
    "if temp==rev:\n",
    "    print(\"It is a palindrome\")\n",
    "else:\n",
    "    print(\"It is not a palindrome\")\n"
   ]
  },
  {
   "cell_type": "code",
   "execution_count": 24,
   "id": "b67323a0",
   "metadata": {},
   "outputs": [
    {
     "name": "stdout",
     "output_type": "stream",
     "text": [
      "Enter the range: 10\n",
      "0\n",
      "1\n",
      "1\n",
      "2\n",
      "3\n",
      "5\n",
      "8\n",
      "13\n",
      "21\n",
      "34\n"
     ]
    }
   ],
   "source": [
    "# Fibonacci Sequence\n",
    "n=int(input(\"Enter the range: \"))\n",
    "a=0\n",
    "b=1\n",
    "sum=0\n",
    "for i in range(n):\n",
    "    print(sum)\n",
    "    a=b\n",
    "    b=sum\n",
    "    sum=a+b\n",
    " "
   ]
  },
  {
   "cell_type": "code",
   "execution_count": 17,
   "id": "b9674d55",
   "metadata": {},
   "outputs": [
    {
     "name": "stdout",
     "output_type": "stream",
     "text": [
      "Enter the number: 9\n",
      "Not prime number\n"
     ]
    }
   ],
   "source": [
    "n=int(input(\"Enter the number: \"))\n",
    "flag=0\n",
    "if n>1:\n",
    "    for i in range(2,n):\n",
    "        if n%i==0:\n",
    "            flag=1\n",
    "            break\n",
    "if flag==0:\n",
    "    print(\"Prime number\")\n",
    "else:\n",
    "    print(\"Not prime number\")\n",
    "    "
   ]
  },
  {
   "cell_type": "markdown",
   "id": "d8716687",
   "metadata": {},
   "source": [
    "# Nested Loop\n"
   ]
  },
  {
   "cell_type": "code",
   "execution_count": 24,
   "id": "ada4288f",
   "metadata": {},
   "outputs": [
    {
     "name": "stdout",
     "output_type": "stream",
     "text": [
      "\n",
      "*\n",
      "**\n",
      "***\n",
      "****\n",
      "*****\n"
     ]
    }
   ],
   "source": [
    "# Pyramid\n",
    "for i in range(6):        # Outer loop\n",
    "    for j in range(i):    # Inner loop\n",
    "        print(\"*\",end=\"\")\n",
    "    print()\n"
   ]
  },
  {
   "cell_type": "code",
   "execution_count": 9,
   "id": "12ba7045",
   "metadata": {},
   "outputs": [
    {
     "name": "stdout",
     "output_type": "stream",
     "text": [
      "\n",
      "A\n",
      "AB\n",
      "ABC\n",
      "ABCD\n"
     ]
    }
   ],
   "source": [
    "# Pyramid\n",
    "for i in range(5):        # Outer loop\n",
    "    for j in range(i):    # Inner loop\n",
    "        print(chr(65+j),end=\"\")\n",
    "    print()\n"
   ]
  },
  {
   "cell_type": "code",
   "execution_count": 39,
   "id": "b371e8e9",
   "metadata": {},
   "outputs": [
    {
     "name": "stdout",
     "output_type": "stream",
     "text": [
      "55555\n",
      "4444\n",
      "333\n",
      "22\n",
      "1\n"
     ]
    }
   ],
   "source": [
    "# Pyramid\n",
    "for i in range(5):        # Outer loop\n",
    "    for j in range(5-i):    # Inner loop\n",
    "        print(5-i,end=\"\")\n",
    "    print()\n"
   ]
  },
  {
   "cell_type": "code",
   "execution_count": 36,
   "id": "f0cfc07d",
   "metadata": {},
   "outputs": [
    {
     "name": "stdout",
     "output_type": "stream",
     "text": [
      "012345\n",
      "01234\n",
      "0123\n",
      "012\n",
      "01\n",
      "0\n"
     ]
    }
   ],
   "source": [
    "# Pyramid\n",
    "for i in range(6):        # Outer loop\n",
    "    for j in range(6-i):    # Inner loop\n",
    "        print(j,end=\"\")\n",
    "    print()\n"
   ]
  },
  {
   "cell_type": "code",
   "execution_count": 41,
   "id": "2ab34c32",
   "metadata": {},
   "outputs": [
    {
     "name": "stdout",
     "output_type": "stream",
     "text": [
      "Anza\n",
      "\n",
      "Ummer\n"
     ]
    }
   ],
   "source": [
    "print(\"Anza\")\n",
    "print()\n",
    "print(\"Ummer\")"
   ]
  },
  {
   "cell_type": "markdown",
   "id": "061e6822",
   "metadata": {},
   "source": [
    "# Break"
   ]
  },
  {
   "cell_type": "code",
   "execution_count": 42,
   "id": "1cca4c04",
   "metadata": {},
   "outputs": [
    {
     "name": "stdout",
     "output_type": "stream",
     "text": [
      "0\n",
      "1\n",
      "2\n",
      "3\n",
      "4\n"
     ]
    }
   ],
   "source": [
    "for i in range(10):\n",
    "    if i==5:\n",
    "        break\n",
    "    else:\n",
    "        print(i)"
   ]
  },
  {
   "cell_type": "markdown",
   "id": "f06b37a8",
   "metadata": {},
   "source": [
    "# For Loop with Else"
   ]
  },
  {
   "cell_type": "code",
   "execution_count": null,
   "id": "6066923c",
   "metadata": {},
   "outputs": [],
   "source": [
    "for i in range(10):"
   ]
  }
 ],
 "metadata": {
  "kernelspec": {
   "display_name": "Python 3",
   "language": "python",
   "name": "python3"
  },
  "language_info": {
   "codemirror_mode": {
    "name": "ipython",
    "version": 3
   },
   "file_extension": ".py",
   "mimetype": "text/x-python",
   "name": "python",
   "nbconvert_exporter": "python",
   "pygments_lexer": "ipython3",
   "version": "3.8.8"
  }
 },
 "nbformat": 4,
 "nbformat_minor": 5
}
